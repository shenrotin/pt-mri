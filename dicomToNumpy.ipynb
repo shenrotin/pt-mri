{
 "cells": [
  {
   "cell_type": "code",
   "execution_count": 1,
   "metadata": {
    "collapsed": true
   },
   "outputs": [],
   "source": [
    "#import cell\n",
    "\n",
    "import numpy as np\n",
    "import dicom\n",
    "import os"
   ]
  },
  {
   "cell_type": "code",
   "execution_count": 23,
   "metadata": {
    "collapsed": false
   },
   "outputs": [],
   "source": [
    "folderPath = 'D:/Documents/Projects/PT-MRI/EclipseWS/PT-MRI/data/MR_2016-08-03_160844_IRM.ABDOMEN.SUP.(FOIE,RATE,REINS)_t1.vibe.dixon.tra.caipi4.bh.320.opp_n96__00000/'"
   ]
  },
  {
   "cell_type": "code",
   "execution_count": 24,
   "metadata": {
    "collapsed": false
   },
   "outputs": [
    {
     "ename": "PermissionError",
     "evalue": "[Errno 13] Permission denied: 'D:/Documents/Projects/PT-MRI/EclipseWS/PT-MRI/data/MR_2016-08-03_160844_IRM.ABDOMEN.SUP.(FOIE,RATE,REINS)_t1.vibe.dixon.tra.caipi4.bh.320.opp_n96__00000/'",
     "output_type": "error",
     "traceback": [
      "\u001b[0;31m---------------------------------------------------------------------------\u001b[0m",
      "\u001b[0;31mPermissionError\u001b[0m                           Traceback (most recent call last)",
      "\u001b[0;32m<ipython-input-24-258a79f5f198>\u001b[0m in \u001b[0;36m<module>\u001b[0;34m()\u001b[0m\n\u001b[1;32m      2\u001b[0m \u001b[1;31m# read dicom and stock them into a numpy array\u001b[0m\u001b[1;33m\u001b[0m\u001b[1;33m\u001b[0m\u001b[0m\n\u001b[1;32m      3\u001b[0m \u001b[1;33m\u001b[0m\u001b[0m\n\u001b[0;32m----> 4\u001b[0;31m \u001b[0mdicomDir\u001b[0m \u001b[1;33m=\u001b[0m \u001b[0mdicom\u001b[0m\u001b[1;33m.\u001b[0m\u001b[0mread_dicomdir\u001b[0m\u001b[1;33m(\u001b[0m\u001b[0mfolderPath\u001b[0m\u001b[1;33m)\u001b[0m\u001b[1;33m\u001b[0m\u001b[0m\n\u001b[0m\u001b[1;32m      5\u001b[0m \u001b[0mprint\u001b[0m\u001b[1;33m(\u001b[0m\u001b[0mdicomDir\u001b[0m\u001b[1;33m)\u001b[0m\u001b[1;33m\u001b[0m\u001b[0m\n\u001b[1;32m      6\u001b[0m \u001b[0mtimg\u001b[0m\u001b[1;33m=\u001b[0m\u001b[0mlist\u001b[0m\u001b[1;33m(\u001b[0m\u001b[1;33m)\u001b[0m\u001b[1;33m\u001b[0m\u001b[0m\n",
      "\u001b[0;32mC:\\Program Files\\Anaconda3\\lib\\site-packages\\dicom\\filereader.py\u001b[0m in \u001b[0;36mread_dicomdir\u001b[0;34m(filename)\u001b[0m\n\u001b[1;32m    631\u001b[0m     \u001b[1;31m# read_file will return a DicomDir instance if file is one.\u001b[0m\u001b[1;33m\u001b[0m\u001b[1;33m\u001b[0m\u001b[0m\n\u001b[1;32m    632\u001b[0m     \u001b[1;31m# Here, check that it is in fact DicomDir\u001b[0m\u001b[1;33m\u001b[0m\u001b[1;33m\u001b[0m\u001b[0m\n\u001b[0;32m--> 633\u001b[0;31m     \u001b[0mds\u001b[0m \u001b[1;33m=\u001b[0m \u001b[0mread_file\u001b[0m\u001b[1;33m(\u001b[0m\u001b[0mfilename\u001b[0m\u001b[1;33m)\u001b[0m\u001b[1;33m\u001b[0m\u001b[0m\n\u001b[0m\u001b[1;32m    634\u001b[0m     \u001b[1;32mif\u001b[0m \u001b[1;32mnot\u001b[0m \u001b[0misinstance\u001b[0m\u001b[1;33m(\u001b[0m\u001b[0mds\u001b[0m\u001b[1;33m,\u001b[0m \u001b[0mDicomDir\u001b[0m\u001b[1;33m)\u001b[0m\u001b[1;33m:\u001b[0m\u001b[1;33m\u001b[0m\u001b[0m\n\u001b[1;32m    635\u001b[0m         \u001b[0mmsg\u001b[0m \u001b[1;33m=\u001b[0m \u001b[1;34m\"File '{0}' is not a Media Storage Directory file\"\u001b[0m\u001b[1;33m.\u001b[0m\u001b[0mformat\u001b[0m\u001b[1;33m(\u001b[0m\u001b[0mfilename\u001b[0m\u001b[1;33m)\u001b[0m\u001b[1;33m\u001b[0m\u001b[0m\n",
      "\u001b[0;32mC:\\Program Files\\Anaconda3\\lib\\site-packages\\dicom\\filereader.py\u001b[0m in \u001b[0;36mread_file\u001b[0;34m(fp, defer_size, stop_before_pixels, force)\u001b[0m\n\u001b[1;32m    587\u001b[0m         \u001b[0mcaller_owns_file\u001b[0m \u001b[1;33m=\u001b[0m \u001b[1;32mFalse\u001b[0m\u001b[1;33m\u001b[0m\u001b[0m\n\u001b[1;32m    588\u001b[0m         \u001b[0mlogger\u001b[0m\u001b[1;33m.\u001b[0m\u001b[0mdebug\u001b[0m\u001b[1;33m(\u001b[0m\u001b[1;34m\"Reading file '{0}'\"\u001b[0m\u001b[1;33m.\u001b[0m\u001b[0mformat\u001b[0m\u001b[1;33m(\u001b[0m\u001b[0mfp\u001b[0m\u001b[1;33m)\u001b[0m\u001b[1;33m)\u001b[0m\u001b[1;33m\u001b[0m\u001b[0m\n\u001b[0;32m--> 589\u001b[0;31m         \u001b[0mfp\u001b[0m \u001b[1;33m=\u001b[0m \u001b[0mopen\u001b[0m\u001b[1;33m(\u001b[0m\u001b[0mfp\u001b[0m\u001b[1;33m,\u001b[0m \u001b[1;34m'rb'\u001b[0m\u001b[1;33m)\u001b[0m\u001b[1;33m\u001b[0m\u001b[0m\n\u001b[0m\u001b[1;32m    590\u001b[0m \u001b[1;33m\u001b[0m\u001b[0m\n\u001b[1;32m    591\u001b[0m     \u001b[1;32mif\u001b[0m \u001b[0mdicom\u001b[0m\u001b[1;33m.\u001b[0m\u001b[0mdebugging\u001b[0m\u001b[1;33m:\u001b[0m\u001b[1;33m\u001b[0m\u001b[0m\n",
      "\u001b[0;31mPermissionError\u001b[0m: [Errno 13] Permission denied: 'D:/Documents/Projects/PT-MRI/EclipseWS/PT-MRI/data/MR_2016-08-03_160844_IRM.ABDOMEN.SUP.(FOIE,RATE,REINS)_t1.vibe.dixon.tra.caipi4.bh.320.opp_n96__00000/'"
     ]
    }
   ],
   "source": []
  },
  {
   "cell_type": "code",
   "execution_count": 25,
   "metadata": {
    "collapsed": true
   },
   "outputs": [],
   "source": [
    "# if 2D DICOM files \"en vrac\"\n",
    "# create list of tuples :[file names, space position, time position] usefull to sort the images in space or time\n",
    "\n",
    "##Create a list of 2D dicom files inside a folder and return a list of filename + slice position + acquisition time\n",
    "def createCompleteListFrom2DFiles(folderPath):\n",
    "\n",
    "    # get list of only dcm files names\n",
    "    filesList = []\n",
    "    for file in os.listdir(folderPath):\n",
    "        if file.endswith(\".dcm\"):\n",
    "            filesList.append(file)\n",
    "\n",
    "    # for each dcm file, get the position in space and time of the slice.\n",
    "    spacePositionList = []\n",
    "    timingPositionList = []\n",
    "\n",
    "    for element in filesList:\n",
    "        #print(element)\n",
    "        file = dicom.read_file(folderPath + element)\n",
    "\n",
    "        acquisitionTime = file[0x08, 0x32].value        # dicom tag for: AcquisitionTime (0008,0032)\n",
    "        #print(acquisitionTime)\n",
    "        timingPositionList.append(acquisitionTime)\n",
    "\n",
    "        sliceLocation = file[0x20, 0x1041].value        # dicom tag for: SliceLocation (0020,1041)\n",
    "        #print(sliceLocation)\n",
    "        spacePositionList.append(sliceLocation)\n",
    "\n",
    "    completeList = list(zip(filesList, timingPositionList, spacePositionList))\n",
    "    return completeList"
   ]
  },
  {
   "cell_type": "code",
   "execution_count": 26,
   "metadata": {
    "collapsed": false
   },
   "outputs": [
    {
     "name": "stdout",
     "output_type": "stream",
     "text": [
      "(96, 260, 320)\n"
     ]
    }
   ],
   "source": [
    "# the list can then be sorted easily and used to fill a 3D numpy array (2D video)\n",
    "\n",
    "filesList = createCompleteListFrom2DFiles(folderPath)\n",
    "sortedBySpacePositionList = sorted(filesList, key=lambda images: images[1])\n",
    "\n",
    "timg=[]\n",
    "for image in sortedBySpacePositionList:\n",
    "    file = dicom.read_file(folderPath+image[0])\n",
    "    timg.append(file.pixel_array)\n",
    "\n",
    "timg.reverse()\n",
    "img = np.array(timg)\n",
    "print(img.shape)\n",
    "\n"
   ]
  },
  {
   "cell_type": "code",
   "execution_count": null,
   "metadata": {
    "collapsed": true
   },
   "outputs": [],
   "source": []
  }
 ],
 "metadata": {
  "anaconda-cloud": {},
  "kernelspec": {
   "display_name": "Python [conda root]",
   "language": "python",
   "name": "conda-root-py"
  },
  "language_info": {
   "codemirror_mode": {
    "name": "ipython",
    "version": 3
   },
   "file_extension": ".py",
   "mimetype": "text/x-python",
   "name": "python",
   "nbconvert_exporter": "python",
   "pygments_lexer": "ipython3",
   "version": "3.5.2"
  }
 },
 "nbformat": 4,
 "nbformat_minor": 1
}
